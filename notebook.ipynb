{
  "cells": [
    {
      "cell_type": "code",
      "execution_count": 12,
      "id": "f616d3bd",
      "metadata": {},
      "outputs": [
        {
          "name": "stdout",
          "output_type": "stream",
          "text": [
            "The autoreload extension is already loaded. To reload it, use:\n",
            "  %reload_ext autoreload\n"
          ]
        },
        {
          "data": {
            "text/plain": [
              "<module 'tissue' from '/Users/tomernadiv/Desktop/MSc/Courses/DS Project/vertex_model/tissue.py'>"
            ]
          },
          "execution_count": 12,
          "metadata": {},
          "output_type": "execute_result"
        }
      ],
      "source": [
        "%load_ext autoreload\n",
        "%autoreload 2\n",
        "from IPython.display import clear_output\n",
        "%matplotlib inline\n",
        "\n",
        "import importlib\n",
        "from globals import *\n",
        "import cell\n",
        "import tissue\n",
        "import time\n",
        "\n",
        "importlib.reload(cell)\n",
        "importlib.reload(tissue)"
      ]
    },
    {
      "cell_type": "code",
      "execution_count": null,
      "id": "2d410ca7",
      "metadata": {},
      "outputs": [
        {
          "ename": "KeyboardInterrupt",
          "evalue": "",
          "output_type": "error",
          "traceback": [
            "\u001b[0;31m---------------------------------------------------------------------------\u001b[0m",
            "\u001b[0;31mKeyboardInterrupt\u001b[0m                         Traceback (most recent call last)",
            "Cell \u001b[0;32mIn[13], line 24\u001b[0m\n\u001b[1;32m     22\u001b[0m plt\u001b[38;5;241m.\u001b[39mshow()\n\u001b[1;32m     23\u001b[0m clear_output(wait\u001b[38;5;241m=\u001b[39m\u001b[38;5;28;01mTrue\u001b[39;00m)\n\u001b[0;32m---> 24\u001b[0m time\u001b[38;5;241m.\u001b[39msleep(\u001b[38;5;241m0.5\u001b[39m)\n\u001b[1;32m     26\u001b[0m \u001b[38;5;66;03m# computation\u001b[39;00m\n\u001b[1;32m     27\u001b[0m T\u001b[38;5;241m.\u001b[39mcompute_all_forces([\u001b[38;5;124m'\u001b[39m\u001b[38;5;124mspring\u001b[39m\u001b[38;5;124m'\u001b[39m, \u001b[38;5;124m'\u001b[39m\u001b[38;5;124mline_tension\u001b[39m\u001b[38;5;124m'\u001b[39m])\n",
            "\u001b[0;31mKeyboardInterrupt\u001b[0m: "
          ]
        }
      ],
      "source": [
        "T = tissue.Tissue(cell_radius=cell_radius, num_cols=6, num_rows=6)\n",
        "\n",
        "time_limit = 20\n",
        "total_energy = []\n",
        "for t in range(1, time_limit):\n",
        "\n",
        "    # plotting\n",
        "    # fig, (ax1, ax2) = plt.subplots(2,1, figsize=(10, 10))\n",
        "    # ax1.set_title(f\"Timestamp: {t}\")\n",
        "    # T.plot_tissue(ax=ax1)\n",
        "    # T.plot_heights_distribution(ax=ax2, bins=30)\n",
        "    # plt.tight_layout()\n",
        "    # plt.show()\n",
        "    # clear_output(wait=True)\n",
        "    # time.sleep(0.5)\n",
        "\n",
        "\n",
        "    fig, ax = plt.subplots(1, 1, figsize=(6, 6))\n",
        "    plt.title(f\"Timestamp: {t}\")\n",
        "    T.plot_tissue(ax=ax)\n",
        "    plt.tight_layout()\n",
        "    plt.show()\n",
        "    clear_output(wait=True)\n",
        "    time.sleep(0.5)\n",
        "\n",
        "    # computation\n",
        "    T.compute_all_forces(['spring', 'line_tension'])\n",
        "    T.update_positions(dt=0.01)\n",
        "    T.update_heights()\n",
        "    total_energy.append(T.compute_total_energy())\n",
        "\n",
        "fig, ax = plt.subplots(figsize=(6, 6))\n",
        "ax.set_title(f\"Timestamp: {time_limit}\")\n",
        "T.plot_tissue(ax=ax)\n",
        "plt.show()\n",
        "\n",
        "plt.plot(total_energy)\n",
        "plt.xlabel(\"Time step\")\n",
        "plt.ylabel(\"Total Energy\" )\n",
        "plt.title(\"Total Energy Over Time\")\n",
        "plt.grid(True)\n",
        "plt.show()"
      ]
    },
    {
      "cell_type": "code",
      "execution_count": null,
      "id": "e1263624",
      "metadata": {},
      "outputs": [],
      "source": []
    }
  ],
  "metadata": {
    "kernelspec": {
      "display_name": "myenv",
      "language": "python",
      "name": "python3"
    },
    "language_info": {
      "codemirror_mode": {
        "name": "ipython",
        "version": 3
      },
      "file_extension": ".py",
      "mimetype": "text/x-python",
      "name": "python",
      "nbconvert_exporter": "python",
      "pygments_lexer": "ipython3",
      "version": "3.12.3"
    }
  },
  "nbformat": 4,
  "nbformat_minor": 5
}
