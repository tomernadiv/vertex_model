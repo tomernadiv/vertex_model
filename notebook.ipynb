{
 "cells": [
  {
   "cell_type": "code",
   "execution_count": 34,
   "id": "f616d3bd",
   "metadata": {},
   "outputs": [
    {
     "name": "stdout",
     "output_type": "stream",
     "text": [
      "The autoreload extension is already loaded. To reload it, use:\n",
      "  %reload_ext autoreload\n"
     ]
    },
    {
     "data": {
      "text/plain": [
       "<module 'tissue' from '/home/gili/weizmann/vertex_model/tissue.py'>"
      ]
     },
     "execution_count": 34,
     "metadata": {},
     "output_type": "execute_result"
    }
   ],
   "source": [
    "%load_ext autoreload\n",
    "%autoreload 2\n",
    "from IPython.display import clear_output\n",
    "%matplotlib inline\n",
    "\n",
    "\n",
    "import importlib\n",
    "from globals import *\n",
    "import cell\n",
    "import tissue\n",
    "import time\n",
    "\n",
    "importlib.reload(cell)\n",
    "importlib.reload(tissue)\n"
   ]
  },
  {
   "cell_type": "code",
   "execution_count": 35,
   "id": "2d410ca7",
   "metadata": {},
   "outputs": [],
   "source": [
    "T = tissue.Tissue(cell_radius=cell_radius, num_cols=10, num_rows=10)"
   ]
  },
  {
   "cell_type": "code",
   "execution_count": null,
   "id": "06fc54d8",
   "metadata": {},
   "outputs": [
    {
     "ename": "KeyboardInterrupt",
     "evalue": "",
     "output_type": "error",
     "traceback": [
      "\u001b[31m---------------------------------------------------------------------------\u001b[39m",
      "\u001b[31mKeyboardInterrupt\u001b[39m                         Traceback (most recent call last)",
      "\u001b[36mCell\u001b[39m\u001b[36m \u001b[39m\u001b[32mIn[36]\u001b[39m\u001b[32m, line 35\u001b[39m\n\u001b[32m     33\u001b[39m \u001b[38;5;66;03m# For animations in Jupyter notebooks\u001b[39;00m\n\u001b[32m     34\u001b[39m clear_output(wait=\u001b[38;5;28;01mTrue\u001b[39;00m)\n\u001b[32m---> \u001b[39m\u001b[32m35\u001b[39m time.sleep(\u001b[32m0.5\u001b[39m)\n\u001b[32m     37\u001b[39m \u001b[38;5;66;03m# Update for next iteration\u001b[39;00m\n\u001b[32m     38\u001b[39m \u001b[38;5;66;03m# T.compute_all_forces(['spring', 'line_tension'])\u001b[39;00m\n\u001b[32m     39\u001b[39m T.compute_all_forces([\u001b[33m'\u001b[39m\u001b[33mspring\u001b[39m\u001b[33m'\u001b[39m])\n",
      "\u001b[31mKeyboardInterrupt\u001b[39m: "
     ]
    }
   ],
   "source": [
    "# add some pertubations to check plotting\n",
    "# original_pos = nx.get_node_attributes(T.graph, 'pos').copy()\n",
    "# for cell in T.cells:\n",
    "#     cell.height = np.random.uniform(0.1, 1.0)\n",
    "#     pts = np.array([original_pos[n] for n in cell.nodes])\n",
    "#     center = pts.mean(axis=0)\n",
    "#     for i, n in enumerate(cell.nodes):\n",
    "#         x, y = original_pos[n]\n",
    "#         vx, vy = x - center[0], y - center[1]\n",
    "#         length = np.hypot(vx, vy) or 1.0\n",
    "#         ux, uy = vx/length, vy/length\n",
    "#         shift_x = np.random.normal(0, 0.1)\n",
    "#         shift_y = np.random.normal(0, 0.1)\n",
    "#         new_pos = (x + ux*shift_x, y + uy*shift_y)\n",
    "#         T.graph.nodes[n]['pos'] = new_pos\n",
    "\n",
    "\n",
    "time_limit = 100\n",
    "total_energy = []\n",
    "for t in range(1, time_limit):\n",
    "    # Create a new figure each time\n",
    "    fig, ax = plt.subplots(figsize=(6, 6))\n",
    "    \n",
    "    # Plot tissue\n",
    "    ax.set_title(f\"Timestamp: {t}\")\n",
    "    T.plot_tissue(ax=ax)\n",
    "    \n",
    "    # Display the plot\n",
    "    plt.tight_layout()\n",
    "    display(fig)\n",
    "    plt.close(fig)\n",
    "    \n",
    "    # For animations in Jupyter notebooks\n",
    "    clear_output(wait=True)\n",
    "    time.sleep(0.5)\n",
    "    \n",
    "    # Update for next iteration\n",
    "    # T.compute_all_forces(['spring', 'line_tension'])\n",
    "    T.compute_all_forces(['spring'])\n",
    "    T.update_positions(dt=0.5)\n",
    "    T.update_heights()\n",
    "    total_energy.append(T.compute_total_energy())\n",
    "\n",
    "    #dispaly forces on each node\n",
    "    for i, node in enumerate(T.graph.nodes):\n",
    "        cell_type = \"\"\n",
    "        if T.graph.nodes[node]['neuron']:\n",
    "            cell_type +=\"neuron\"\n",
    "        if T.graph.nodes[node]['boundary']:\n",
    "            if cell_type:\n",
    "                cell_type += \"_\"\n",
    "            cell_type += \"boundary\"\n",
    "        print(f\"Node {i}: {cell_type}  {node} {T.graph.nodes[node]['force']}\")\n",
    "\n",
    "\n",
    "# Create final figure\n",
    "fig, ax = plt.subplots(figsize=(6, 6))\n",
    "ax.set_title(f\"Timestamp: {time_limit}\")\n",
    "T.plot_tissue(ax=ax)\n",
    "plt.show()\n",
    "\n",
    "\n",
    "\n",
    "#graph of total eneergy in time:\n",
    "plt.plot(total_energy)\n",
    "plt.xlabel(\"Time step\")\n",
    "plt.ylabel(\"Total Energy\")\n",
    "plt.title(\"Total Energy Over Time\")\n",
    "plt.grid(True)\n",
    "plt.show()"
   ]
  },
  {
   "cell_type": "code",
   "execution_count": null,
   "id": "05fcbc80",
   "metadata": {},
   "outputs": [],
   "source": []
  }
 ],
 "metadata": {
  "kernelspec": {
   "display_name": "vertex_model",
   "language": "python",
   "name": "python3"
  },
  "language_info": {
   "codemirror_mode": {
    "name": "ipython",
    "version": 3
   },
   "file_extension": ".py",
   "mimetype": "text/x-python",
   "name": "python",
   "nbconvert_exporter": "python",
   "pygments_lexer": "ipython3",
   "version": "3.11.11"
  }
 },
 "nbformat": 4,
 "nbformat_minor": 5
}
