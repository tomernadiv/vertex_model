{
 "cells": [
  {
   "cell_type": "code",
   "execution_count": 15,
   "id": "f616d3bd",
   "metadata": {},
   "outputs": [
    {
     "name": "stdout",
     "output_type": "stream",
     "text": [
      "The autoreload extension is already loaded. To reload it, use:\n",
      "  %reload_ext autoreload\n"
     ]
    },
    {
     "data": {
      "text/plain": [
       "<module 'tissue' from '/Users/tomernadiv/Desktop/MSc/Courses/DS Project/vertex_model/tissue.py'>"
      ]
     },
     "execution_count": 15,
     "metadata": {},
     "output_type": "execute_result"
    }
   ],
   "source": [
    "%load_ext autoreload\n",
    "%autoreload 2\n",
    "from IPython.display import clear_output\n",
    "%matplotlib inline\n",
    "\n",
    "\n",
    "import importlib\n",
    "from globals import *\n",
    "import cell\n",
    "import tissue\n",
    "import time\n",
    "\n",
    "importlib.reload(cell)\n",
    "importlib.reload(tissue)\n"
   ]
  },
  {
   "cell_type": "code",
   "execution_count": 16,
   "id": "2d410ca7",
   "metadata": {},
   "outputs": [],
   "source": [
    "T = tissue.Tissue(cell_radius=cell_radius, num_cols=10, num_rows=10)"
   ]
  },
  {
   "cell_type": "code",
   "execution_count": null,
   "id": "06fc54d8",
   "metadata": {},
   "outputs": [
    {
     "ename": "AttributeError",
     "evalue": "'Tissue' object has no attribute 'u'",
     "output_type": "error",
     "traceback": [
      "\u001b[0;31m---------------------------------------------------------------------------\u001b[0m",
      "\u001b[0;31mAttributeError\u001b[0m                            Traceback (most recent call last)",
      "Cell \u001b[0;32mIn[17], line 39\u001b[0m\n\u001b[1;32m     37\u001b[0m     T\u001b[38;5;241m.\u001b[39mcompute_all_forces([\u001b[38;5;124m'\u001b[39m\u001b[38;5;124mspring\u001b[39m\u001b[38;5;124m'\u001b[39m, \u001b[38;5;124m'\u001b[39m\u001b[38;5;124mline_tension\u001b[39m\u001b[38;5;124m'\u001b[39m])\n\u001b[1;32m     38\u001b[0m     T\u001b[38;5;241m.\u001b[39mupdate_positions(dt\u001b[38;5;241m=\u001b[39m\u001b[38;5;241m0.5\u001b[39m)\n\u001b[0;32m---> 39\u001b[0m     T\u001b[38;5;241m.\u001b[39mu\n\u001b[1;32m     41\u001b[0m \u001b[38;5;66;03m# Create final figure\u001b[39;00m\n\u001b[1;32m     42\u001b[0m fig, ax \u001b[38;5;241m=\u001b[39m plt\u001b[38;5;241m.\u001b[39msubplots(figsize\u001b[38;5;241m=\u001b[39m(\u001b[38;5;241m6\u001b[39m, \u001b[38;5;241m6\u001b[39m))\n",
      "\u001b[0;31mAttributeError\u001b[0m: 'Tissue' object has no attribute 'u'"
     ]
    }
   ],
   "source": [
    "# add some pertubations to check plotting\n",
    "# original_pos = nx.get_node_attributes(T.graph, 'pos').copy()\n",
    "# for cell in T.cells:\n",
    "#     cell.height = np.random.uniform(0.1, 1.0)\n",
    "#     pts = np.array([original_pos[n] for n in cell.nodes])\n",
    "#     center = pts.mean(axis=0)\n",
    "#     for i, n in enumerate(cell.nodes):\n",
    "#         x, y = original_pos[n]\n",
    "#         vx, vy = x - center[0], y - center[1]\n",
    "#         length = np.hypot(vx, vy) or 1.0\n",
    "#         ux, uy = vx/length, vy/length\n",
    "#         shift_x = np.random.normal(0, 0.2)\n",
    "#         shift_y = np.random.normal(0, 0.2)\n",
    "#         new_pos = (x + ux*shift_x, y + uy*shift_y)\n",
    "#         T.graph.nodes[n]['pos'] = new_pos\n",
    "\n",
    "\n",
    "time_limit = 100\n",
    "for t in range(1, time_limit):\n",
    "    # Create a new figure each time\n",
    "    fig, ax = plt.subplots(figsize=(6, 6))\n",
    "    \n",
    "    # Plot tissue\n",
    "    ax.set_title(f\"Timestamp: {t}\")\n",
    "    T.plot_tissue(ax=ax)\n",
    "    \n",
    "    # Display the plot\n",
    "    plt.tight_layout()\n",
    "    display(fig)\n",
    "    plt.close(fig)\n",
    "    \n",
    "    # For animations in Jupyter notebooks\n",
    "    clear_output(wait=True)\n",
    "    time.sleep(0.5)\n",
    "    \n",
    "    # Update for next iteration\n",
    "    T.compute_all_forces(['spring', 'line_tension'])\n",
    "    T.update_positions(dt=0.5)\n",
    "    T.update_heights()\n",
    "\n",
    "# Create final figure\n",
    "fig, ax = plt.subplots(figsize=(6, 6))\n",
    "ax.set_title(f\"Timestamp: {time_limit}\")\n",
    "T.plot_tissue(ax=ax)\n",
    "plt.show()\n",
    "\n",
    "\n",
    "# for node in T.graph.nodes:\n",
    "#     print(f\"Node {node}: {T.graph.nodes[node]['force']}\")"
   ]
  }
 ],
 "metadata": {
  "kernelspec": {
   "display_name": "myenv",
   "language": "python",
   "name": "python3"
  },
  "language_info": {
   "codemirror_mode": {
    "name": "ipython",
    "version": 3
   },
   "file_extension": ".py",
   "mimetype": "text/x-python",
   "name": "python",
   "nbconvert_exporter": "python",
   "pygments_lexer": "ipython3",
   "version": "3.12.3"
  }
 },
 "nbformat": 4,
 "nbformat_minor": 5
}
